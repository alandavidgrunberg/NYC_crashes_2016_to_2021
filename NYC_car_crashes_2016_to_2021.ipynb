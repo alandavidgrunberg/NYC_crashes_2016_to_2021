{
 "cells": [
  {
   "cell_type": "markdown",
   "id": "224e370e",
   "metadata": {},
   "source": [
    "## NYC Car Crash Data 2016-2021 "
   ]
  },
  {
   "cell_type": "markdown",
   "id": "06042a2b",
   "metadata": {},
   "source": [
    "<b><i>Dataset exploration, cleaning & feature engineering "
   ]
  },
  {
   "cell_type": "markdown",
   "id": "82c9126c",
   "metadata": {},
   "source": [
    "Data source: https://data.cityofnewyork.us/Public-Safety/Motor-Vehicle-Collisions-Crashes/h9gi-nx95<br>\n",
    "Notebook by Alan Grunberg, https://github.com/alandavidgrunberg"
   ]
  },
  {
   "cell_type": "markdown",
   "id": "5b1e202a",
   "metadata": {},
   "source": [
    "<b>loading libraries"
   ]
  },
  {
   "cell_type": "code",
   "execution_count": 1,
   "id": "c8f1e38e",
   "metadata": {},
   "outputs": [],
   "source": [
    "import pandas as pd\n",
    "from geopy.geocoders import Nominatim\n",
    "from geopy.extra.rate_limiter import RateLimiter"
   ]
  },
  {
   "cell_type": "markdown",
   "id": "9224baa1",
   "metadata": {},
   "source": [
    "<b>loading original data from CSV into Pandas DataFrame"
   ]
  },
  {
   "cell_type": "code",
   "execution_count": 2,
   "id": "65aa1be7",
   "metadata": {},
   "outputs": [],
   "source": [
    "df_orig = pd.read_csv(\"data/motor_vehicle_collisions_original.csv\")"
   ]
  },
  {
   "cell_type": "code",
   "execution_count": 3,
   "id": "f3e6ac14",
   "metadata": {},
   "outputs": [],
   "source": [
    "df = df_orig.copy()"
   ]
  },
  {
   "cell_type": "code",
   "execution_count": 4,
   "id": "c9a7fa42",
   "metadata": {},
   "outputs": [
    {
     "data": {
      "text/html": [
       "<div>\n",
       "<style scoped>\n",
       "    .dataframe tbody tr th:only-of-type {\n",
       "        vertical-align: middle;\n",
       "    }\n",
       "\n",
       "    .dataframe tbody tr th {\n",
       "        vertical-align: top;\n",
       "    }\n",
       "\n",
       "    .dataframe thead th {\n",
       "        text-align: right;\n",
       "    }\n",
       "</style>\n",
       "<table border=\"1\" class=\"dataframe\">\n",
       "  <thead>\n",
       "    <tr style=\"text-align: right;\">\n",
       "      <th></th>\n",
       "      <th>CRASH DATE</th>\n",
       "      <th>CRASH TIME</th>\n",
       "      <th>BOROUGH</th>\n",
       "      <th>ZIP CODE</th>\n",
       "      <th>LATITUDE</th>\n",
       "      <th>LONGITUDE</th>\n",
       "      <th>LOCATION</th>\n",
       "      <th>ON STREET NAME</th>\n",
       "      <th>CROSS STREET NAME</th>\n",
       "      <th>OFF STREET NAME</th>\n",
       "      <th>...</th>\n",
       "      <th>CONTRIBUTING FACTOR VEHICLE 2</th>\n",
       "      <th>CONTRIBUTING FACTOR VEHICLE 3</th>\n",
       "      <th>CONTRIBUTING FACTOR VEHICLE 4</th>\n",
       "      <th>CONTRIBUTING FACTOR VEHICLE 5</th>\n",
       "      <th>COLLISION_ID</th>\n",
       "      <th>VEHICLE TYPE CODE 1</th>\n",
       "      <th>VEHICLE TYPE CODE 2</th>\n",
       "      <th>VEHICLE TYPE CODE 3</th>\n",
       "      <th>VEHICLE TYPE CODE 4</th>\n",
       "      <th>VEHICLE TYPE CODE 5</th>\n",
       "    </tr>\n",
       "  </thead>\n",
       "  <tbody>\n",
       "    <tr>\n",
       "      <th>0</th>\n",
       "      <td>09/11/2021</td>\n",
       "      <td>2:39</td>\n",
       "      <td>NaN</td>\n",
       "      <td>NaN</td>\n",
       "      <td>NaN</td>\n",
       "      <td>NaN</td>\n",
       "      <td>NaN</td>\n",
       "      <td>WHITESTONE EXPRESSWAY</td>\n",
       "      <td>20 AVENUE</td>\n",
       "      <td>NaN</td>\n",
       "      <td>...</td>\n",
       "      <td>Unspecified</td>\n",
       "      <td>NaN</td>\n",
       "      <td>NaN</td>\n",
       "      <td>NaN</td>\n",
       "      <td>4455765.0</td>\n",
       "      <td>Sedan</td>\n",
       "      <td>Sedan</td>\n",
       "      <td>NaN</td>\n",
       "      <td>NaN</td>\n",
       "      <td>NaN</td>\n",
       "    </tr>\n",
       "    <tr>\n",
       "      <th>1</th>\n",
       "      <td>03/26/2022</td>\n",
       "      <td>11:45</td>\n",
       "      <td>NaN</td>\n",
       "      <td>NaN</td>\n",
       "      <td>NaN</td>\n",
       "      <td>NaN</td>\n",
       "      <td>NaN</td>\n",
       "      <td>QUEENSBORO BRIDGE UPPER</td>\n",
       "      <td>NaN</td>\n",
       "      <td>NaN</td>\n",
       "      <td>...</td>\n",
       "      <td>NaN</td>\n",
       "      <td>NaN</td>\n",
       "      <td>NaN</td>\n",
       "      <td>NaN</td>\n",
       "      <td>4513547.0</td>\n",
       "      <td>Sedan</td>\n",
       "      <td>NaN</td>\n",
       "      <td>NaN</td>\n",
       "      <td>NaN</td>\n",
       "      <td>NaN</td>\n",
       "    </tr>\n",
       "    <tr>\n",
       "      <th>2</th>\n",
       "      <td>06/29/2022</td>\n",
       "      <td>6:55</td>\n",
       "      <td>NaN</td>\n",
       "      <td>NaN</td>\n",
       "      <td>NaN</td>\n",
       "      <td>NaN</td>\n",
       "      <td>NaN</td>\n",
       "      <td>THROGS NECK BRIDGE</td>\n",
       "      <td>NaN</td>\n",
       "      <td>NaN</td>\n",
       "      <td>...</td>\n",
       "      <td>Unspecified</td>\n",
       "      <td>NaN</td>\n",
       "      <td>NaN</td>\n",
       "      <td>NaN</td>\n",
       "      <td>4541903.0</td>\n",
       "      <td>Sedan</td>\n",
       "      <td>Pick-up Truck</td>\n",
       "      <td>NaN</td>\n",
       "      <td>NaN</td>\n",
       "      <td>NaN</td>\n",
       "    </tr>\n",
       "    <tr>\n",
       "      <th>3</th>\n",
       "      <td>09/11/2021</td>\n",
       "      <td>9:35</td>\n",
       "      <td>BROOKLYN</td>\n",
       "      <td>11208.0</td>\n",
       "      <td>40.667202</td>\n",
       "      <td>-73.866500</td>\n",
       "      <td>(40.667202, -73.8665)</td>\n",
       "      <td>NaN</td>\n",
       "      <td>NaN</td>\n",
       "      <td>1211      LORING AVENUE</td>\n",
       "      <td>...</td>\n",
       "      <td>NaN</td>\n",
       "      <td>NaN</td>\n",
       "      <td>NaN</td>\n",
       "      <td>NaN</td>\n",
       "      <td>4456314.0</td>\n",
       "      <td>Sedan</td>\n",
       "      <td>NaN</td>\n",
       "      <td>NaN</td>\n",
       "      <td>NaN</td>\n",
       "      <td>NaN</td>\n",
       "    </tr>\n",
       "    <tr>\n",
       "      <th>4</th>\n",
       "      <td>12/14/2021</td>\n",
       "      <td>8:13</td>\n",
       "      <td>BROOKLYN</td>\n",
       "      <td>11233.0</td>\n",
       "      <td>40.683304</td>\n",
       "      <td>-73.917274</td>\n",
       "      <td>(40.683304, -73.917274)</td>\n",
       "      <td>SARATOGA AVENUE</td>\n",
       "      <td>DECATUR STREET</td>\n",
       "      <td>NaN</td>\n",
       "      <td>...</td>\n",
       "      <td>NaN</td>\n",
       "      <td>NaN</td>\n",
       "      <td>NaN</td>\n",
       "      <td>NaN</td>\n",
       "      <td>4486609.0</td>\n",
       "      <td>NaN</td>\n",
       "      <td>NaN</td>\n",
       "      <td>NaN</td>\n",
       "      <td>NaN</td>\n",
       "      <td>NaN</td>\n",
       "    </tr>\n",
       "  </tbody>\n",
       "</table>\n",
       "<p>5 rows × 29 columns</p>\n",
       "</div>"
      ],
      "text/plain": [
       "   CRASH DATE CRASH TIME   BOROUGH  ZIP CODE   LATITUDE  LONGITUDE  \\\n",
       "0  09/11/2021       2:39       NaN       NaN        NaN        NaN   \n",
       "1  03/26/2022      11:45       NaN       NaN        NaN        NaN   \n",
       "2  06/29/2022       6:55       NaN       NaN        NaN        NaN   \n",
       "3  09/11/2021       9:35  BROOKLYN   11208.0  40.667202 -73.866500   \n",
       "4  12/14/2021       8:13  BROOKLYN   11233.0  40.683304 -73.917274   \n",
       "\n",
       "                  LOCATION           ON STREET NAME CROSS STREET NAME  \\\n",
       "0                      NaN    WHITESTONE EXPRESSWAY         20 AVENUE   \n",
       "1                      NaN  QUEENSBORO BRIDGE UPPER               NaN   \n",
       "2                      NaN       THROGS NECK BRIDGE               NaN   \n",
       "3    (40.667202, -73.8665)                      NaN               NaN   \n",
       "4  (40.683304, -73.917274)          SARATOGA AVENUE    DECATUR STREET   \n",
       "\n",
       "           OFF STREET NAME  ...  CONTRIBUTING FACTOR VEHICLE 2  \\\n",
       "0                      NaN  ...                    Unspecified   \n",
       "1                      NaN  ...                            NaN   \n",
       "2                      NaN  ...                    Unspecified   \n",
       "3  1211      LORING AVENUE  ...                            NaN   \n",
       "4                      NaN  ...                            NaN   \n",
       "\n",
       "   CONTRIBUTING FACTOR VEHICLE 3  CONTRIBUTING FACTOR VEHICLE 4  \\\n",
       "0                            NaN                            NaN   \n",
       "1                            NaN                            NaN   \n",
       "2                            NaN                            NaN   \n",
       "3                            NaN                            NaN   \n",
       "4                            NaN                            NaN   \n",
       "\n",
       "   CONTRIBUTING FACTOR VEHICLE 5  COLLISION_ID  VEHICLE TYPE CODE 1  \\\n",
       "0                            NaN     4455765.0                Sedan   \n",
       "1                            NaN     4513547.0                Sedan   \n",
       "2                            NaN     4541903.0                Sedan   \n",
       "3                            NaN     4456314.0                Sedan   \n",
       "4                            NaN     4486609.0                  NaN   \n",
       "\n",
       "   VEHICLE TYPE CODE 2  VEHICLE TYPE CODE 3 VEHICLE TYPE CODE 4  \\\n",
       "0                Sedan                  NaN                 NaN   \n",
       "1                  NaN                  NaN                 NaN   \n",
       "2        Pick-up Truck                  NaN                 NaN   \n",
       "3                  NaN                  NaN                 NaN   \n",
       "4                  NaN                  NaN                 NaN   \n",
       "\n",
       "  VEHICLE TYPE CODE 5  \n",
       "0                 NaN  \n",
       "1                 NaN  \n",
       "2                 NaN  \n",
       "3                 NaN  \n",
       "4                 NaN  \n",
       "\n",
       "[5 rows x 29 columns]"
      ]
     },
     "execution_count": 4,
     "metadata": {},
     "output_type": "execute_result"
    }
   ],
   "source": [
    "df.head()"
   ]
  },
  {
   "cell_type": "code",
   "execution_count": 5,
   "id": "58a25a0e",
   "metadata": {},
   "outputs": [
    {
     "name": "stdout",
     "output_type": "stream",
     "text": [
      "<class 'pandas.core.frame.DataFrame'>\n",
      "RangeIndex: 1199042 entries, 0 to 1199041\n",
      "Data columns (total 29 columns):\n",
      " #   Column                         Non-Null Count    Dtype  \n",
      "---  ------                         --------------    -----  \n",
      " 0   CRASH DATE                     1199042 non-null  object \n",
      " 1   CRASH TIME                     1199038 non-null  object \n",
      " 2   BOROUGH                        776108 non-null   object \n",
      " 3   ZIP CODE                       775897 non-null   float64\n",
      " 4   LATITUDE                       1090977 non-null  float64\n",
      " 5   LONGITUDE                      1090977 non-null  float64\n",
      " 6   LOCATION                       1090977 non-null  object \n",
      " 7   ON STREET NAME                 906899 non-null   object \n",
      " 8   CROSS STREET NAME              599549 non-null   object \n",
      " 9   OFF STREET NAME                284620 non-null   object \n",
      " 10  NUMBER OF PERSONS INJURED      1199020 non-null  float64\n",
      " 11  NUMBER OF PERSONS KILLED       1199007 non-null  float64\n",
      " 12  NUMBER OF PEDESTRIANS INJURED  1199038 non-null  float64\n",
      " 13  NUMBER OF PEDESTRIANS KILLED   1199038 non-null  float64\n",
      " 14  NUMBER OF CYCLIST INJURED      1199038 non-null  float64\n",
      " 15  NUMBER OF CYCLIST KILLED       1199038 non-null  float64\n",
      " 16  NUMBER OF MOTORIST INJURED     1199038 non-null  float64\n",
      " 17  NUMBER OF MOTORIST KILLED      1199038 non-null  float64\n",
      " 18  CONTRIBUTING FACTOR VEHICLE 1  1194775 non-null  object \n",
      " 19  CONTRIBUTING FACTOR VEHICLE 2  999670 non-null   object \n",
      " 20  CONTRIBUTING FACTOR VEHICLE 3  87174 non-null    object \n",
      " 21  CONTRIBUTING FACTOR VEHICLE 4  20135 non-null    object \n",
      " 22  CONTRIBUTING FACTOR VEHICLE 5  5563 non-null     object \n",
      " 23  COLLISION_ID                   1199037 non-null  float64\n",
      " 24  VEHICLE TYPE CODE 1            1188754 non-null  object \n",
      " 25  VEHICLE TYPE CODE 2            924721 non-null   object \n",
      " 26  VEHICLE TYPE CODE 3            82248 non-null    object \n",
      " 27  VEHICLE TYPE CODE 4            19066 non-null    object \n",
      " 28  VEHICLE TYPE CODE 5            5315 non-null     object \n",
      "dtypes: float64(12), object(17)\n",
      "memory usage: 265.3+ MB\n"
     ]
    }
   ],
   "source": [
    "df.info()"
   ]
  },
  {
   "cell_type": "markdown",
   "id": "e856b4ca",
   "metadata": {},
   "source": [
    "<b>dropping unneeded columns"
   ]
  },
  {
   "cell_type": "code",
   "execution_count": 6,
   "id": "8c3eb5b1",
   "metadata": {},
   "outputs": [],
   "source": [
    "df = df.drop(columns = ['COLLISION_ID','BOROUGH','ON STREET NAME','CROSS STREET NAME','OFF STREET NAME',\\\n",
    "                        'NUMBER OF PERSONS INJURED','NUMBER OF PEDESTRIANS INJURED', 'NUMBER OF CYCLIST INJURED',\\\n",
    "                        'NUMBER OF MOTORIST INJURED'])"
   ]
  },
  {
   "cell_type": "markdown",
   "id": "6244d60c",
   "metadata": {},
   "source": [
    "<b> dropping rows with zero fatalities"
   ]
  },
  {
   "cell_type": "code",
   "execution_count": 7,
   "id": "524ea811",
   "metadata": {},
   "outputs": [],
   "source": [
    "df = df[df['NUMBER OF PERSONS KILLED'] != 0]"
   ]
  },
  {
   "cell_type": "code",
   "execution_count": 8,
   "id": "50df8d26",
   "metadata": {},
   "outputs": [],
   "source": [
    "df = df.dropna(subset=['NUMBER OF PERSONS KILLED'])"
   ]
  },
  {
   "cell_type": "markdown",
   "id": "5008a2bb",
   "metadata": {},
   "source": [
    "<b>dropping rows where fatality aggregations don't add up"
   ]
  },
  {
   "cell_type": "code",
   "execution_count": 9,
   "id": "b887e286",
   "metadata": {},
   "outputs": [],
   "source": [
    "df['calc_total_killed'] = df['NUMBER OF PEDESTRIANS KILLED'] + df['NUMBER OF CYCLIST KILLED'] + df['NUMBER OF MOTORIST KILLED']\n",
    "df = df[df['calc_total_killed'] == df['NUMBER OF PERSONS KILLED']]\n"
   ]
  },
  {
   "cell_type": "code",
   "execution_count": 10,
   "id": "37d8f7bd",
   "metadata": {},
   "outputs": [],
   "source": [
    "df = df.drop(columns = ['calc_total_killed'])"
   ]
  },
  {
   "cell_type": "markdown",
   "id": "518033ab",
   "metadata": {},
   "source": [
    "<b>dropping rows with missing latitude/longitude values"
   ]
  },
  {
   "cell_type": "code",
   "execution_count": 11,
   "id": "a4f28605",
   "metadata": {},
   "outputs": [],
   "source": [
    "df = df.dropna(subset=['LATITUDE','LONGITUDE','LOCATION'],how='all')"
   ]
  },
  {
   "cell_type": "code",
   "execution_count": 12,
   "id": "2e5495cd",
   "metadata": {},
   "outputs": [],
   "source": [
    "df = df[df['LATITUDE'] != 0]\n",
    "df = df[df['LONGITUDE'] != 0]"
   ]
  },
  {
   "cell_type": "markdown",
   "id": "659adb2a",
   "metadata": {},
   "source": [
    "<b>dropping rows with missing vehicle type/contributing factor information"
   ]
  },
  {
   "cell_type": "code",
   "execution_count": 13,
   "id": "d75a20a0",
   "metadata": {},
   "outputs": [],
   "source": [
    "df = df.dropna(subset=['VEHICLE TYPE CODE 1','VEHICLE TYPE CODE 2','VEHICLE TYPE CODE 3','VEHICLE TYPE CODE 4',\\\n",
    "                       'VEHICLE TYPE CODE 5','CONTRIBUTING FACTOR VEHICLE 1','CONTRIBUTING FACTOR VEHICLE 2',\\\n",
    "                       'CONTRIBUTING FACTOR VEHICLE 3','CONTRIBUTING FACTOR VEHICLE 4',\\\n",
    "                       'CONTRIBUTING FACTOR VEHICLE 5'], how='all')"
   ]
  },
  {
   "cell_type": "markdown",
   "id": "b5da5af8",
   "metadata": {},
   "source": [
    "<b>filling in unspecified vehicle type values"
   ]
  },
  {
   "cell_type": "code",
   "execution_count": 14,
   "id": "3637e8e3",
   "metadata": {},
   "outputs": [],
   "source": [
    "df.is_copy = False\n",
    "df['VEHICLE TYPE CODE 1'].fillna('Unspecified', inplace=True)\n"
   ]
  },
  {
   "cell_type": "markdown",
   "id": "f1dfa580",
   "metadata": {},
   "source": [
    "<b>converting crash date and time info to Pandas datetime objects"
   ]
  },
  {
   "cell_type": "code",
   "execution_count": 15,
   "id": "e5fee1e2",
   "metadata": {},
   "outputs": [],
   "source": [
    "df['CRASH TIME'] = df['CRASH TIME'].str.zfill(5)"
   ]
  },
  {
   "cell_type": "code",
   "execution_count": 16,
   "id": "a3598df5",
   "metadata": {},
   "outputs": [],
   "source": [
    "df['CRASH DATE'] = df['CRASH DATE'].str.replace('/','')\n",
    "df['CRASH TIME'] = df['CRASH TIME'].str.replace(':','')"
   ]
  },
  {
   "cell_type": "code",
   "execution_count": 17,
   "id": "1d82bc9c",
   "metadata": {},
   "outputs": [],
   "source": [
    "df['date time'] = df['CRASH DATE'] + df['CRASH TIME']"
   ]
  },
  {
   "cell_type": "code",
   "execution_count": 18,
   "id": "f085de9b",
   "metadata": {},
   "outputs": [],
   "source": [
    "df['CRASH DATETIME'] = pd.to_datetime(df['date time'], format='%m%d%Y%H%M')"
   ]
  },
  {
   "cell_type": "code",
   "execution_count": 19,
   "id": "d9bbfd04",
   "metadata": {},
   "outputs": [],
   "source": [
    "df = df.drop(columns=['date time','CRASH DATE','CRASH TIME'])"
   ]
  },
  {
   "cell_type": "markdown",
   "id": "020f56bd",
   "metadata": {},
   "source": [
    "<b>sorting rows by datetime"
   ]
  },
  {
   "cell_type": "code",
   "execution_count": 20,
   "id": "28d49103",
   "metadata": {},
   "outputs": [],
   "source": [
    "df = df.sort_values(by=['CRASH DATETIME'])"
   ]
  },
  {
   "cell_type": "markdown",
   "id": "7c05082f",
   "metadata": {},
   "source": [
    "<b> slicing off partial 2015 and 2022 rows to leave full years from 2016-2021"
   ]
  },
  {
   "cell_type": "code",
   "execution_count": 21,
   "id": "c64bccc9",
   "metadata": {},
   "outputs": [],
   "source": [
    "df = df[1:]\n"
   ]
  },
  {
   "cell_type": "code",
   "execution_count": 22,
   "id": "08fbad29",
   "metadata": {},
   "outputs": [],
   "source": [
    "df = df[:-127]\n"
   ]
  },
  {
   "cell_type": "code",
   "execution_count": 23,
   "id": "ca4a4463",
   "metadata": {},
   "outputs": [],
   "source": [
    "df = df.reset_index(drop=True)"
   ]
  },
  {
   "cell_type": "markdown",
   "id": "c5fa0edc",
   "metadata": {},
   "source": [
    "<b>getting zip code for each row by reverse geocoding coordinates"
   ]
  },
  {
   "cell_type": "code",
   "execution_count": 24,
   "id": "ca5cfba1",
   "metadata": {},
   "outputs": [],
   "source": [
    "geolocator = Nominatim(user_agent=\"nyc crash data\")\n",
    "reverse = RateLimiter(geolocator.reverse, min_delay_seconds=1, max_retries=3)"
   ]
  },
  {
   "cell_type": "code",
   "execution_count": 25,
   "id": "1b93c6b8",
   "metadata": {},
   "outputs": [],
   "source": [
    "zipcode_list = []\n",
    "for lat, lon in zip(df['LATITUDE'],df['LONGITUDE']):\n",
    "    try:\n",
    "        zipcode_list.append(reverse(f\"{lat},{lon}\").raw['address']['postcode'])\n",
    "    except AttributeError:\n",
    "        zipcode_list.append(None)"
   ]
  },
  {
   "cell_type": "code",
   "execution_count": 26,
   "id": "8c80c847",
   "metadata": {},
   "outputs": [],
   "source": [
    "zipcode_series = pd.Series(zipcode_list)"
   ]
  },
  {
   "cell_type": "code",
   "execution_count": 27,
   "id": "62644ea4",
   "metadata": {},
   "outputs": [],
   "source": [
    "df['ZIP'] = zipcode_series\n"
   ]
  },
  {
   "cell_type": "code",
   "execution_count": 28,
   "id": "d297546b",
   "metadata": {
    "scrolled": true
   },
   "outputs": [],
   "source": [
    "df = df.drop(columns=['ZIP CODE'])\n"
   ]
  },
  {
   "cell_type": "code",
   "execution_count": 29,
   "id": "22c851cc",
   "metadata": {},
   "outputs": [
    {
     "data": {
      "text/html": [
       "<div>\n",
       "<style scoped>\n",
       "    .dataframe tbody tr th:only-of-type {\n",
       "        vertical-align: middle;\n",
       "    }\n",
       "\n",
       "    .dataframe tbody tr th {\n",
       "        vertical-align: top;\n",
       "    }\n",
       "\n",
       "    .dataframe thead th {\n",
       "        text-align: right;\n",
       "    }\n",
       "</style>\n",
       "<table border=\"1\" class=\"dataframe\">\n",
       "  <thead>\n",
       "    <tr style=\"text-align: right;\">\n",
       "      <th></th>\n",
       "      <th>LATITUDE</th>\n",
       "      <th>LONGITUDE</th>\n",
       "      <th>LOCATION</th>\n",
       "      <th>NUMBER OF PERSONS KILLED</th>\n",
       "      <th>NUMBER OF PEDESTRIANS KILLED</th>\n",
       "      <th>NUMBER OF CYCLIST KILLED</th>\n",
       "      <th>NUMBER OF MOTORIST KILLED</th>\n",
       "      <th>CONTRIBUTING FACTOR VEHICLE 1</th>\n",
       "      <th>CONTRIBUTING FACTOR VEHICLE 2</th>\n",
       "      <th>CONTRIBUTING FACTOR VEHICLE 3</th>\n",
       "      <th>CONTRIBUTING FACTOR VEHICLE 4</th>\n",
       "      <th>CONTRIBUTING FACTOR VEHICLE 5</th>\n",
       "      <th>VEHICLE TYPE CODE 1</th>\n",
       "      <th>VEHICLE TYPE CODE 2</th>\n",
       "      <th>VEHICLE TYPE CODE 3</th>\n",
       "      <th>VEHICLE TYPE CODE 4</th>\n",
       "      <th>VEHICLE TYPE CODE 5</th>\n",
       "      <th>CRASH DATETIME</th>\n",
       "      <th>ZIP</th>\n",
       "    </tr>\n",
       "  </thead>\n",
       "  <tbody>\n",
       "    <tr>\n",
       "      <th>0</th>\n",
       "      <td>40.883861</td>\n",
       "      <td>-73.855885</td>\n",
       "      <td>(40.8838608, -73.8558854)</td>\n",
       "      <td>1.0</td>\n",
       "      <td>0.0</td>\n",
       "      <td>0.0</td>\n",
       "      <td>1.0</td>\n",
       "      <td>Traffic Control Disregarded</td>\n",
       "      <td>Unspecified</td>\n",
       "      <td>Unspecified</td>\n",
       "      <td>Unspecified</td>\n",
       "      <td>Unspecified</td>\n",
       "      <td>PASSENGER VEHICLE</td>\n",
       "      <td>SPORT UTILITY / STATION WAGON</td>\n",
       "      <td>PASSENGER VEHICLE</td>\n",
       "      <td>SPORT UTILITY / STATION WAGON</td>\n",
       "      <td>PASSENGER VEHICLE</td>\n",
       "      <td>2016-01-04 05:20:00</td>\n",
       "      <td>10466</td>\n",
       "    </tr>\n",
       "    <tr>\n",
       "      <th>1</th>\n",
       "      <td>40.739903</td>\n",
       "      <td>-73.972845</td>\n",
       "      <td>(40.7399029, -73.9728449)</td>\n",
       "      <td>1.0</td>\n",
       "      <td>1.0</td>\n",
       "      <td>0.0</td>\n",
       "      <td>0.0</td>\n",
       "      <td>Passenger Distraction</td>\n",
       "      <td>NaN</td>\n",
       "      <td>NaN</td>\n",
       "      <td>NaN</td>\n",
       "      <td>NaN</td>\n",
       "      <td>PASSENGER VEHICLE</td>\n",
       "      <td>NaN</td>\n",
       "      <td>NaN</td>\n",
       "      <td>NaN</td>\n",
       "      <td>NaN</td>\n",
       "      <td>2016-01-08 00:35:00</td>\n",
       "      <td>10010</td>\n",
       "    </tr>\n",
       "    <tr>\n",
       "      <th>2</th>\n",
       "      <td>40.839225</td>\n",
       "      <td>-73.915089</td>\n",
       "      <td>(40.8392249, -73.9150891)</td>\n",
       "      <td>1.0</td>\n",
       "      <td>1.0</td>\n",
       "      <td>0.0</td>\n",
       "      <td>0.0</td>\n",
       "      <td>Driver Inattention/Distraction</td>\n",
       "      <td>Driver Inattention/Distraction</td>\n",
       "      <td>Driver Inattention/Distraction</td>\n",
       "      <td>NaN</td>\n",
       "      <td>NaN</td>\n",
       "      <td>PASSENGER VEHICLE</td>\n",
       "      <td>VAN</td>\n",
       "      <td>SPORT UTILITY / STATION WAGON</td>\n",
       "      <td>NaN</td>\n",
       "      <td>NaN</td>\n",
       "      <td>2016-01-08 23:14:00</td>\n",
       "      <td>10456</td>\n",
       "    </tr>\n",
       "    <tr>\n",
       "      <th>3</th>\n",
       "      <td>40.718303</td>\n",
       "      <td>-73.987396</td>\n",
       "      <td>(40.7183032, -73.9873956)</td>\n",
       "      <td>1.0</td>\n",
       "      <td>1.0</td>\n",
       "      <td>0.0</td>\n",
       "      <td>0.0</td>\n",
       "      <td>Unspecified</td>\n",
       "      <td>NaN</td>\n",
       "      <td>NaN</td>\n",
       "      <td>NaN</td>\n",
       "      <td>NaN</td>\n",
       "      <td>LARGE COM VEH(6 OR MORE TIRES)</td>\n",
       "      <td>NaN</td>\n",
       "      <td>NaN</td>\n",
       "      <td>NaN</td>\n",
       "      <td>NaN</td>\n",
       "      <td>2016-01-12 13:29:00</td>\n",
       "      <td>10002</td>\n",
       "    </tr>\n",
       "    <tr>\n",
       "      <th>4</th>\n",
       "      <td>40.794052</td>\n",
       "      <td>-73.970367</td>\n",
       "      <td>(40.7940523, -73.9703673)</td>\n",
       "      <td>1.0</td>\n",
       "      <td>1.0</td>\n",
       "      <td>0.0</td>\n",
       "      <td>0.0</td>\n",
       "      <td>Unspecified</td>\n",
       "      <td>NaN</td>\n",
       "      <td>NaN</td>\n",
       "      <td>NaN</td>\n",
       "      <td>NaN</td>\n",
       "      <td>MOTORCYCLE</td>\n",
       "      <td>NaN</td>\n",
       "      <td>NaN</td>\n",
       "      <td>NaN</td>\n",
       "      <td>NaN</td>\n",
       "      <td>2016-01-14 17:46:00</td>\n",
       "      <td>10025</td>\n",
       "    </tr>\n",
       "  </tbody>\n",
       "</table>\n",
       "</div>"
      ],
      "text/plain": [
       "    LATITUDE  LONGITUDE                   LOCATION  NUMBER OF PERSONS KILLED  \\\n",
       "0  40.883861 -73.855885  (40.8838608, -73.8558854)                       1.0   \n",
       "1  40.739903 -73.972845  (40.7399029, -73.9728449)                       1.0   \n",
       "2  40.839225 -73.915089  (40.8392249, -73.9150891)                       1.0   \n",
       "3  40.718303 -73.987396  (40.7183032, -73.9873956)                       1.0   \n",
       "4  40.794052 -73.970367  (40.7940523, -73.9703673)                       1.0   \n",
       "\n",
       "   NUMBER OF PEDESTRIANS KILLED  NUMBER OF CYCLIST KILLED  \\\n",
       "0                           0.0                       0.0   \n",
       "1                           1.0                       0.0   \n",
       "2                           1.0                       0.0   \n",
       "3                           1.0                       0.0   \n",
       "4                           1.0                       0.0   \n",
       "\n",
       "   NUMBER OF MOTORIST KILLED   CONTRIBUTING FACTOR VEHICLE 1  \\\n",
       "0                        1.0     Traffic Control Disregarded   \n",
       "1                        0.0           Passenger Distraction   \n",
       "2                        0.0  Driver Inattention/Distraction   \n",
       "3                        0.0                     Unspecified   \n",
       "4                        0.0                     Unspecified   \n",
       "\n",
       "    CONTRIBUTING FACTOR VEHICLE 2   CONTRIBUTING FACTOR VEHICLE 3  \\\n",
       "0                     Unspecified                     Unspecified   \n",
       "1                             NaN                             NaN   \n",
       "2  Driver Inattention/Distraction  Driver Inattention/Distraction   \n",
       "3                             NaN                             NaN   \n",
       "4                             NaN                             NaN   \n",
       "\n",
       "  CONTRIBUTING FACTOR VEHICLE 4 CONTRIBUTING FACTOR VEHICLE 5  \\\n",
       "0                   Unspecified                   Unspecified   \n",
       "1                           NaN                           NaN   \n",
       "2                           NaN                           NaN   \n",
       "3                           NaN                           NaN   \n",
       "4                           NaN                           NaN   \n",
       "\n",
       "              VEHICLE TYPE CODE 1            VEHICLE TYPE CODE 2  \\\n",
       "0               PASSENGER VEHICLE  SPORT UTILITY / STATION WAGON   \n",
       "1               PASSENGER VEHICLE                            NaN   \n",
       "2               PASSENGER VEHICLE                            VAN   \n",
       "3  LARGE COM VEH(6 OR MORE TIRES)                            NaN   \n",
       "4                      MOTORCYCLE                            NaN   \n",
       "\n",
       "             VEHICLE TYPE CODE 3            VEHICLE TYPE CODE 4  \\\n",
       "0              PASSENGER VEHICLE  SPORT UTILITY / STATION WAGON   \n",
       "1                            NaN                            NaN   \n",
       "2  SPORT UTILITY / STATION WAGON                            NaN   \n",
       "3                            NaN                            NaN   \n",
       "4                            NaN                            NaN   \n",
       "\n",
       "  VEHICLE TYPE CODE 5      CRASH DATETIME    ZIP  \n",
       "0   PASSENGER VEHICLE 2016-01-04 05:20:00  10466  \n",
       "1                 NaN 2016-01-08 00:35:00  10010  \n",
       "2                 NaN 2016-01-08 23:14:00  10456  \n",
       "3                 NaN 2016-01-12 13:29:00  10002  \n",
       "4                 NaN 2016-01-14 17:46:00  10025  "
      ]
     },
     "execution_count": 29,
     "metadata": {},
     "output_type": "execute_result"
    }
   ],
   "source": [
    "df.head()"
   ]
  },
  {
   "cell_type": "code",
   "execution_count": 30,
   "id": "e34961b9",
   "metadata": {},
   "outputs": [
    {
     "name": "stdout",
     "output_type": "stream",
     "text": [
      "<class 'pandas.core.frame.DataFrame'>\n",
      "RangeIndex: 1274 entries, 0 to 1273\n",
      "Data columns (total 19 columns):\n",
      " #   Column                         Non-Null Count  Dtype         \n",
      "---  ------                         --------------  -----         \n",
      " 0   LATITUDE                       1274 non-null   float64       \n",
      " 1   LONGITUDE                      1274 non-null   float64       \n",
      " 2   LOCATION                       1274 non-null   object        \n",
      " 3   NUMBER OF PERSONS KILLED       1274 non-null   float64       \n",
      " 4   NUMBER OF PEDESTRIANS KILLED   1274 non-null   float64       \n",
      " 5   NUMBER OF CYCLIST KILLED       1274 non-null   float64       \n",
      " 6   NUMBER OF MOTORIST KILLED      1274 non-null   float64       \n",
      " 7   CONTRIBUTING FACTOR VEHICLE 1  1270 non-null   object        \n",
      " 8   CONTRIBUTING FACTOR VEHICLE 2  557 non-null    object        \n",
      " 9   CONTRIBUTING FACTOR VEHICLE 3  177 non-null    object        \n",
      " 10  CONTRIBUTING FACTOR VEHICLE 4  84 non-null     object        \n",
      " 11  CONTRIBUTING FACTOR VEHICLE 5  42 non-null     object        \n",
      " 12  VEHICLE TYPE CODE 1            1274 non-null   object        \n",
      " 13  VEHICLE TYPE CODE 2            548 non-null    object        \n",
      " 14  VEHICLE TYPE CODE 3            177 non-null    object        \n",
      " 15  VEHICLE TYPE CODE 4            84 non-null     object        \n",
      " 16  VEHICLE TYPE CODE 5            43 non-null     object        \n",
      " 17  CRASH DATETIME                 1274 non-null   datetime64[ns]\n",
      " 18  ZIP                            1274 non-null   object        \n",
      "dtypes: datetime64[ns](1), float64(6), object(12)\n",
      "memory usage: 189.2+ KB\n"
     ]
    }
   ],
   "source": [
    "df.info()"
   ]
  },
  {
   "cell_type": "code",
   "execution_count": 32,
   "id": "ca6b745c",
   "metadata": {},
   "outputs": [],
   "source": [
    "df.to_csv(\"data/motor_vehicle_collisions_prepared.csv\")"
   ]
  }
 ],
 "metadata": {
  "kernelspec": {
   "display_name": "Python 3 (ipykernel)",
   "language": "python",
   "name": "python3"
  },
  "language_info": {
   "codemirror_mode": {
    "name": "ipython",
    "version": 3
   },
   "file_extension": ".py",
   "mimetype": "text/x-python",
   "name": "python",
   "nbconvert_exporter": "python",
   "pygments_lexer": "ipython3",
   "version": "3.10.6"
  },
  "toc": {
   "base_numbering": 1,
   "nav_menu": {},
   "number_sections": true,
   "sideBar": true,
   "skip_h1_title": false,
   "title_cell": "Table of Contents",
   "title_sidebar": "Contents",
   "toc_cell": false,
   "toc_position": {},
   "toc_section_display": true,
   "toc_window_display": false
  }
 },
 "nbformat": 4,
 "nbformat_minor": 5
}
